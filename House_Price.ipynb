{
 "cells": [
  {
   "cell_type": "code",
   "execution_count": 1,
   "id": "ab6c3020-942f-4e94-a53c-0b26e1e51227",
   "metadata": {},
   "outputs": [],
   "source": [
    "import pandas as pd"
   ]
  },
  {
   "cell_type": "code",
   "execution_count": 2,
   "id": "f2f9ae8d-5401-4809-b92b-21eeeedfc839",
   "metadata": {},
   "outputs": [
    {
     "data": {
      "text/html": [
       "<div>\n",
       "<style scoped>\n",
       "    .dataframe tbody tr th:only-of-type {\n",
       "        vertical-align: middle;\n",
       "    }\n",
       "\n",
       "    .dataframe tbody tr th {\n",
       "        vertical-align: top;\n",
       "    }\n",
       "\n",
       "    .dataframe thead th {\n",
       "        text-align: right;\n",
       "    }\n",
       "</style>\n",
       "<table border=\"1\" class=\"dataframe\">\n",
       "  <thead>\n",
       "    <tr style=\"text-align: right;\">\n",
       "      <th></th>\n",
       "      <th>Posted On</th>\n",
       "      <th>BHK</th>\n",
       "      <th>Rent</th>\n",
       "      <th>Size</th>\n",
       "      <th>Floor</th>\n",
       "      <th>Area Type</th>\n",
       "      <th>Area Locality</th>\n",
       "      <th>City</th>\n",
       "      <th>Furnishing Status</th>\n",
       "      <th>Tenant Preferred</th>\n",
       "      <th>Bathroom</th>\n",
       "      <th>Point of Contact</th>\n",
       "    </tr>\n",
       "  </thead>\n",
       "  <tbody>\n",
       "    <tr>\n",
       "      <th>0</th>\n",
       "      <td>2022-05-18</td>\n",
       "      <td>2</td>\n",
       "      <td>10000</td>\n",
       "      <td>1100</td>\n",
       "      <td>Ground out of 2</td>\n",
       "      <td>Super Area</td>\n",
       "      <td>Bandel</td>\n",
       "      <td>Kolkata</td>\n",
       "      <td>Unfurnished</td>\n",
       "      <td>Bachelors/Family</td>\n",
       "      <td>2</td>\n",
       "      <td>Contact Owner</td>\n",
       "    </tr>\n",
       "    <tr>\n",
       "      <th>1</th>\n",
       "      <td>2022-05-13</td>\n",
       "      <td>2</td>\n",
       "      <td>20000</td>\n",
       "      <td>800</td>\n",
       "      <td>1 out of 3</td>\n",
       "      <td>Super Area</td>\n",
       "      <td>Phool Bagan, Kankurgachi</td>\n",
       "      <td>Kolkata</td>\n",
       "      <td>Semi-Furnished</td>\n",
       "      <td>Bachelors/Family</td>\n",
       "      <td>1</td>\n",
       "      <td>Contact Owner</td>\n",
       "    </tr>\n",
       "    <tr>\n",
       "      <th>2</th>\n",
       "      <td>2022-05-16</td>\n",
       "      <td>2</td>\n",
       "      <td>17000</td>\n",
       "      <td>1000</td>\n",
       "      <td>1 out of 3</td>\n",
       "      <td>Super Area</td>\n",
       "      <td>Salt Lake City Sector 2</td>\n",
       "      <td>Kolkata</td>\n",
       "      <td>Semi-Furnished</td>\n",
       "      <td>Bachelors/Family</td>\n",
       "      <td>1</td>\n",
       "      <td>Contact Owner</td>\n",
       "    </tr>\n",
       "    <tr>\n",
       "      <th>3</th>\n",
       "      <td>2022-07-04</td>\n",
       "      <td>2</td>\n",
       "      <td>10000</td>\n",
       "      <td>800</td>\n",
       "      <td>1 out of 2</td>\n",
       "      <td>Super Area</td>\n",
       "      <td>Dumdum Park</td>\n",
       "      <td>Kolkata</td>\n",
       "      <td>Unfurnished</td>\n",
       "      <td>Bachelors/Family</td>\n",
       "      <td>1</td>\n",
       "      <td>Contact Owner</td>\n",
       "    </tr>\n",
       "    <tr>\n",
       "      <th>4</th>\n",
       "      <td>2022-05-09</td>\n",
       "      <td>2</td>\n",
       "      <td>7500</td>\n",
       "      <td>850</td>\n",
       "      <td>1 out of 2</td>\n",
       "      <td>Carpet Area</td>\n",
       "      <td>South Dum Dum</td>\n",
       "      <td>Kolkata</td>\n",
       "      <td>Unfurnished</td>\n",
       "      <td>Bachelors</td>\n",
       "      <td>1</td>\n",
       "      <td>Contact Owner</td>\n",
       "    </tr>\n",
       "  </tbody>\n",
       "</table>\n",
       "</div>"
      ],
      "text/plain": [
       "    Posted On  BHK   Rent  Size            Floor    Area Type  \\\n",
       "0  2022-05-18    2  10000  1100  Ground out of 2   Super Area   \n",
       "1  2022-05-13    2  20000   800       1 out of 3   Super Area   \n",
       "2  2022-05-16    2  17000  1000       1 out of 3   Super Area   \n",
       "3  2022-07-04    2  10000   800       1 out of 2   Super Area   \n",
       "4  2022-05-09    2   7500   850       1 out of 2  Carpet Area   \n",
       "\n",
       "              Area Locality     City Furnishing Status  Tenant Preferred  \\\n",
       "0                    Bandel  Kolkata       Unfurnished  Bachelors/Family   \n",
       "1  Phool Bagan, Kankurgachi  Kolkata    Semi-Furnished  Bachelors/Family   \n",
       "2   Salt Lake City Sector 2  Kolkata    Semi-Furnished  Bachelors/Family   \n",
       "3               Dumdum Park  Kolkata       Unfurnished  Bachelors/Family   \n",
       "4             South Dum Dum  Kolkata       Unfurnished         Bachelors   \n",
       "\n",
       "   Bathroom Point of Contact  \n",
       "0         2    Contact Owner  \n",
       "1         1    Contact Owner  \n",
       "2         1    Contact Owner  \n",
       "3         1    Contact Owner  \n",
       "4         1    Contact Owner  "
      ]
     },
     "execution_count": 2,
     "metadata": {},
     "output_type": "execute_result"
    }
   ],
   "source": [
    "dataset = pd.read_csv(r\"C:\\Users\\praha\\OneDrive\\Desktop\\House_rent_price\\House_Rent_Dataset.csv\")\n",
    "dataset.head()"
   ]
  },
  {
   "cell_type": "code",
   "execution_count": 3,
   "id": "46c8ba1d-2fe6-4406-81e9-4f7efe257617",
   "metadata": {},
   "outputs": [
    {
     "data": {
      "text/plain": [
       "(4746, 12)"
      ]
     },
     "execution_count": 3,
     "metadata": {},
     "output_type": "execute_result"
    }
   ],
   "source": [
    "dataset.shape"
   ]
  },
  {
   "cell_type": "code",
   "execution_count": 4,
   "id": "9a84ca4a-a58e-4374-9a56-c962c5936c88",
   "metadata": {},
   "outputs": [
    {
     "data": {
      "text/plain": [
       "0    Ground out of 2\n",
       "1         1 out of 3\n",
       "2         1 out of 3\n",
       "3         1 out of 2\n",
       "4         1 out of 2\n",
       "Name: Floor, dtype: object"
      ]
     },
     "execution_count": 4,
     "metadata": {},
     "output_type": "execute_result"
    }
   ],
   "source": [
    "dataset[\"Floor\"].head()"
   ]
  },
  {
   "cell_type": "code",
   "execution_count": 5,
   "id": "09decab5-c58c-4bda-b1f6-d848c740e472",
   "metadata": {},
   "outputs": [
    {
     "data": {
      "text/plain": [
       "array(['Ground out of 2', '1 out of 3', '1 out of 2', 'Ground out of 1',\n",
       "       'Ground out of 4', '1 out of 4', '1 out of 1', 'Ground out of 3',\n",
       "       '2 out of 3', '4 out of 5', '2 out of 2', '2 out of 5',\n",
       "       '4 out of 14', '3 out of 3', '5 out of 5', '4 out of 4',\n",
       "       '7 out of 8', '2 out of 4', '3 out of 4', '1 out of 5',\n",
       "       '8 out of 5', 'Ground out of 6', '2 out of 1',\n",
       "       'Upper Basement out of 4', 'Ground out of 5', '3 out of 5',\n",
       "       '11 out of 19', '5 out of 10', '11 out of 14',\n",
       "       'Lower Basement out of 2', '2 out of 7', '4 out of 10',\n",
       "       '7 out of 10', '2 out of 13', '6 out of 7', '4 out of 7',\n",
       "       '14 out of 14', '43 out of 78', '2 out of 8', '13 out of 18',\n",
       "       '5 out of 12', '18 out of 24', '3 out of 7', '17 out of 31',\n",
       "       '11 out of 21', '7 out of 19', '14 out of 23', '9 out of 20',\n",
       "       'Upper Basement out of 9', '19 out of 24', '3 out of 21',\n",
       "       '1 out of 22', '8 out of 8', '6 out of 12', '4 out of 58',\n",
       "       'Upper Basement out of 16', '60 out of 66', '34 out of 48',\n",
       "       '5 out of 8', '5 out of 14', '14 out of 40', '5 out of 7',\n",
       "       '9 out of 22', '12 out of 18', '26 out of 44', '1 out of 8',\n",
       "       '25 out of 42', '25 out of 41', '53 out of 78', 'Ground out of 7',\n",
       "       '14 out of 20', '13 out of 20', '16 out of 23', '10 out of 18',\n",
       "       '39 out of 60', '16 out of 21', '10 out of 32', '4 out of 8',\n",
       "       '12 out of 24', '32 out of 41', '3 out of 30', '13 out of 21',\n",
       "       '9 out of 29', '47 out of 89', '7 out of 41', '28 out of 30',\n",
       "       '13 out of 15', '6 out of 21', '8 out of 16', '2 out of 6',\n",
       "       '5 out of 19', '3 out of 11', '17 out of 42', '10 out of 12',\n",
       "       '8 out of 28', '9 out of 15', '14 out of 22', '18 out of 40',\n",
       "       '9 out of 17', '12 out of 45', '25 out of 35', '7 out of 15',\n",
       "       '10 out of 16', 'Upper Basement out of 20', '5 out of 20',\n",
       "       'Upper Basement out of 40', '5 out of 18', '34 out of 58',\n",
       "       '4 out of 6', '20 out of 22', '12 out of 19', '15 out of 18',\n",
       "       '65 out of 78', '6 out of 16', '17 out of 22', '6 out of 24',\n",
       "       '40 out of 75', '19 out of 38', '15 out of 31', '11 out of 28',\n",
       "       '10 out of 22', '17 out of 24', '15 out of 19', '9 out of 10',\n",
       "       '7 out of 12', '8 out of 20', '11 out of 13', '9 out of 19',\n",
       "       '37 out of 51', '6 out of 11', '8 out of 15', '11 out of 20',\n",
       "       '10 out of 23', 'Upper Basement out of 10', '7 out of 23',\n",
       "       '4 out of 11', '17 out of 43', '7 out of 22', '14 out of 18',\n",
       "       '6 out of 10', '8 out of 12', '3 out of 18', '7 out of 7',\n",
       "       '14 out of 58', '18 out of 23', '19 out of 19', '13 out of 14',\n",
       "       '7 out of 11', '11 out of 22', 'Upper Basement out of 30',\n",
       "       '12 out of 14', '16 out of 31', '12 out of 13', '11 out of 51',\n",
       "       '2 out of 12', '22 out of 24', '7 out of 14', '5 out of 13',\n",
       "       '7 out of 21', '14 out of 21', '17 out of 25', '9 out of 14',\n",
       "       '8 out of 27', '3 out of 6', '17 out of 20', '18 out of 22',\n",
       "       '1 out of 7', '9 out of 30', '3 out of 8', '11 out of 26',\n",
       "       '17 out of 27', '4 out of 12', '12 out of 16', '10 out of 24',\n",
       "       '65 out of 76', '7 out of 9', '17 out of 60', '10 out of 11',\n",
       "       '18 out of 25', '5 out of 11', '15 out of 17', '15 out of 23',\n",
       "       '5 out of 17', '3 out of 28', '5 out of 24', '16 out of 32',\n",
       "       '21 out of 22', '7 out of 13', '9 out of 12', '15 out of 32',\n",
       "       '18 out of 27', '15 out of 16', '18 out of 45', '15 out of 15',\n",
       "       '6 out of 14', '1 out of 20', '16 out of 36', '30 out of 44',\n",
       "       '30 out of 37', '2 out of 9', '12 out of 22', '4 out of 9',\n",
       "       '2 out of 22', '5 out of 6', '6 out of 18', '35 out of 55',\n",
       "       '16 out of 29', '30 out of 45', '5 out of 9', '16 out of 25',\n",
       "       '33 out of 42', '4 out of 16', '13 out of 23', '9 out of 38',\n",
       "       '6 out of 8', '8 out of 13', '19 out of 30', '10 out of 14',\n",
       "       '11 out of 24', '9 out of 16', '9 out of 31', '4 out of 15',\n",
       "       '3 out of 9', '22 out of 30', '3 out of 58', '1 out of 9',\n",
       "       '53 out of 60', '5 out of 22', '15 out of 22', '19 out of 21',\n",
       "       '9 out of 40', 'Ground out of 8', '44 out of 75', '8 out of 17',\n",
       "       '3 out of 14', '12 out of 31', '26 out of 42', '2 out of 45',\n",
       "       '12 out of 68', '17 out of 36', '10 out of 28', '41 out of 41',\n",
       "       '14 out of 68', '14 out of 17', '15 out of 20', '46 out of 76',\n",
       "       '12 out of 20', '20 out of 30', '18 out of 32', '10 out of 25',\n",
       "       '17 out of 29', '10 out of 31', '10 out of 15', '13 out of 16',\n",
       "       '8 out of 10', '18 out of 21', '27 out of 58', '1 out of 6',\n",
       "       '19 out of 25', '3 out of 15', '25 out of 43', '8 out of 14',\n",
       "       '11 out of 12', '9 out of 21', '10 out of 13', '45 out of 77',\n",
       "       '18 out of 19', '10 out of 20', '12 out of 29',\n",
       "       'Lower Basement out of 18', '15 out of 24', '48 out of 68',\n",
       "       '12 out of 42', '16 out of 22', '35 out of 68', '18 out of 30',\n",
       "       '11 out of 31', '50 out of 75', '18 out of 26', '12 out of 27',\n",
       "       '16 out of 20', '24 out of 55', '16 out of 37',\n",
       "       'Upper Basement out of 7', '6 out of 15', '11 out of 27',\n",
       "       '11 out of 23', '3 out of 12', '14 out of 15', '23 out of 25',\n",
       "       '14 out of 48', '29 out of 35', '15 out of 36', '15 out of 25',\n",
       "       '15 out of 28', '3 out of 36', '8 out of 11', '6 out of 20',\n",
       "       '23 out of 23', '5 out of 15', '16 out of 18', '2 out of 10',\n",
       "       '40 out of 50', '25 out of 28', '12 out of 17', '34 out of 40',\n",
       "       'Upper Basement out of 22', '8 out of 23', '5 out of 21',\n",
       "       '32 out of 59', '20 out of 32', '9 out of 18', '10 out of 37',\n",
       "       '25 out of 48', '4 out of 22', '8 out of 18', '11 out of 11',\n",
       "       '5 out of 23', '60 out of 77', '11 out of 18', '4 out of 20',\n",
       "       '5 out of 16', '3 out of 13', '30 out of 58', '15 out of 43',\n",
       "       '7 out of 16', '18 out of 28', '9 out of 55', '11 out of 25',\n",
       "       '49 out of 55', '7 out of 27', '14 out of 27', '16 out of 27',\n",
       "       '25 out of 50', '6 out of 30', '21 out of 23', '8 out of 58',\n",
       "       '20 out of 41', '3 out of 62', '4 out of 13', '7 out of 17',\n",
       "       '12 out of 21', '28 out of 39', '15 out of 58', '6 out of 23',\n",
       "       '36 out of 45', '9 out of 28', '6 out of 45', '22 out of 52',\n",
       "       '10 out of 19', '21 out of 58', '48 out of 54', '7 out of 28',\n",
       "       '11 out of 15', '19 out of 22', '15 out of 37', '2 out of 17',\n",
       "       '76 out of 78', '3 out of 10', '20 out of 27', '8 out of 36',\n",
       "       '14 out of 33', '21 out of 21', '12 out of 25', '18 out of 29',\n",
       "       '14 out of 35', '7 out of 20', '20 out of 37', '9 out of 35',\n",
       "       '27 out of 27', '15 out of 60', '19 out of 33', '18 out of 20',\n",
       "       '13 out of 40', '9 out of 11', '8 out of 22', '6 out of 13',\n",
       "       '20 out of 31', '27 out of 45', '19 out of 20', '32 out of 46',\n",
       "       '19 out of 85', '3 out of 23', '34 out of 46', '4 out of 27',\n",
       "       '19 out of 27', '35 out of 60', '21 out of 33', '25 out of 52',\n",
       "       '2 out of 24', '24 out of 24', '18 out of 33', '1 out of 10',\n",
       "       '45 out of 60', '60 out of 71', '36 out of 81', '24 out of 60',\n",
       "       '16 out of 38', '8 out of 45', 'Ground out of 16', '8 out of 32',\n",
       "       '10 out of 10', '23 out of 40', '7 out of 18', '8 out of 19',\n",
       "       '6 out of 17', '16 out of 34', 'Ground out of 12', '6 out of 9',\n",
       "       'Ground out of 18', '20 out of 25', '3 out of 22', '9 out of 32',\n",
       "       '26 out of 32', '17 out of 18', '24 out of 25', '19 out of 26',\n",
       "       '17 out of 19', '1 out of 13', '14 out of 30', '8 out of 9',\n",
       "       '3 out of 17', 'Lower Basement out of 3', '12 out of 23',\n",
       "       'Ground out of 9', '1 out of 24', '1 out of 12', '3', 'Ground',\n",
       "       '15 out of 29', '20 out of 20', '14 out of 29',\n",
       "       'Lower Basement out of 1', '13 out of 17', '1 out of 14',\n",
       "       'Upper Basement out of 2', '2 out of 14', '24 out of 31',\n",
       "       '2 out of 32', '2 out of 16', '9 out of 13', '1 out of 11',\n",
       "       '6 out of 29', '9 out of 9', '28 out of 31', '1 out of 15',\n",
       "       'Ground out of 14', '2 out of 11', '19 out of 31', '1 out of 16',\n",
       "       '25 out of 32', '11 out of 16', '11 out of 17',\n",
       "       'Upper Basement out of 3', '4 out of 24', '1 out of 19',\n",
       "       '7 out of 30', '16 out of 19', 'Upper Basement out of 5',\n",
       "       'Ground out of 13', '2 out of 25', '23 out of 30', '4 out of 30',\n",
       "       '13 out of 25', '23 out of 35', 'Ground out of 10', '5 out of 34',\n",
       "       '20 out of 35', '1', '4 out of 31', '4 out of 26', '24 out of 33',\n",
       "       '4 out of 17', '1 out of 35', '11 out of 35', 'Ground out of 15',\n",
       "       'Ground out of 27', '15 out of 30', '12 out of 30', '23 out of 34'],\n",
       "      dtype=object)"
      ]
     },
     "execution_count": 5,
     "metadata": {},
     "output_type": "execute_result"
    }
   ],
   "source": [
    "dataset[\"Floor\"].unique()"
   ]
  },
  {
   "cell_type": "code",
   "execution_count": 6,
   "id": "083461ca-3681-4862-87bd-92ab9c387b28",
   "metadata": {},
   "outputs": [],
   "source": [
    "import pandas as pd\n",
    "import matplotlib.pyplot as plt\n",
    "import seaborn as sns\n",
    "from sklearn.preprocessing import OrdinalEncoder\n",
    "from sklearn.model_selection import train_test_split\n",
    "from sklearn.linear_model import LinearRegression\n",
    "\n"
   ]
  },
  {
   "cell_type": "code",
   "execution_count": 7,
   "id": "cae2a557-1dc3-4981-a42a-12b3aebda58d",
   "metadata": {},
   "outputs": [
    {
     "data": {
      "image/png": "[encoded data removed]",
      "text/plain": [
       "<Figure size 640x480 with 1 Axes>"
      ]
     },
     "metadata": {},
     "output_type": "display_data"
    }
   ],
   "source": [
    "# Import the Dataset \n",
    "dataset = pd.read_csv(r\"C:\\Users\\praha\\OneDrive\\Desktop\\House_rent_price\\House_Rent_Dataset.csv\")\n",
    "dataset.head()\n",
    "\n",
    "# Now We drop our Unwanted column \n",
    "dataset = dataset.drop(columns=[\"Posted On\",\"Area Locality\",\"Tenant Preferred\",\"Point of Contact\"])\n",
    "dataset.head()\n",
    "\n",
    "#Now check for Null Value\n",
    "dataset.isnull().sum()\n",
    "\n",
    "#Now check for is there any outliers or not\n",
    "sns.boxplot(x=\"BHK\",data=dataset)\n",
    "plt.show()\n",
    "\n",
    "dataset[\"BHK\"].unique()\n",
    "\n",
    "dataset[\"BHK\"].value_counts()\n",
    "\n",
    "#Now We remove our Outliers\n",
    "q1 = dataset[\"BHK\"].quantile(0.25)\n",
    "q3 = dataset[\"BHK\"].quantile(0.75)\n",
    "q1 , q3\n",
    "\n",
    "IQR=q3 - q1\n",
    "\n",
    "max_rng = q3 + (1.5*IQR)\n",
    "min_rng = q1 - (1.5*IQR)\n",
    "max_rng , min_rng\n",
    "\n",
    "dataset=dataset[dataset[\"BHK\"]<max_rng]\n",
    "\n"
   ]
  },
  {
   "cell_type": "code",
   "execution_count": 8,
   "id": "d965f43f-a9ee-492b-b00b-e0c44a26044d",
   "metadata": {},
   "outputs": [
    {
     "data": {
      "image/png": "[encoded data removed]",
      "text/plain": [
       "<Figure size 640x480 with 1 Axes>"
      ]
     },
     "metadata": {},
     "output_type": "display_data"
    },
    {
     "data": {
      "image/png": "[encoded data removed]",
      "text/plain": [
       "<Figure size 640x480 with 1 Axes>"
      ]
     },
     "metadata": {},
     "output_type": "display_data"
    },
    {
     "data": {
      "image/png": "[encoded data removed]",
      "text/plain": [
       "<Figure size 640x480 with 1 Axes>"
      ]
     },
     "metadata": {},
     "output_type": "display_data"
    },
    {
     "data": {
      "image/png": "[encoded data removed]",
      "text/plain": [
       "<Figure size 640x480 with 1 Axes>"
      ]
     },
     "metadata": {},
     "output_type": "display_data"
    }
   ],
   "source": [
    "# NOw we can remove our Outliers now Again check it through Box plot\n",
    "sns.boxplot(x=\"BHK\",data=dataset)\n",
    "plt.show()\n",
    "\n",
    "dataset.shape\n",
    "\n",
    "# NOW CHECK OUTLIERS FOR RENT\n",
    "sns.boxplot(x=\"Rent\",data=dataset)\n",
    "plt.show()\n",
    "\n",
    "dataset[\"Rent\"].value_counts\n",
    "\n",
    "q1 = dataset[\"Rent\"].quantile(0.25)\n",
    "q3 = dataset[\"Rent\"].quantile(0.75)\n",
    "q1 , q3\n",
    "\n",
    "IQR=q3 - q1\n",
    "\n",
    "max_rng = q3 + (1.5*IQR)\n",
    "min_rng = q1 - (1.5*IQR)\n",
    "max_rng , min_rng\n",
    "\n",
    "dataset=dataset[dataset[\"Rent\"]<max_rng]\n",
    "\n",
    "# NOw we can remove our Outliers now Again check it through Box plot\n",
    "sns.boxplot(x=\"Rent\",data=dataset)\n",
    "plt.show()\n",
    "\n",
    "# NOW CHECK OUTLIERS FOR Size\n",
    "sns.boxplot(x=\"Size\",data=dataset)\n",
    "plt.show()\n",
    "\n",
    "dataset[\"Size\"].value_counts\n",
    "\n",
    "q1 = dataset[\"Size\"].quantile(0.25)\n",
    "q3 = dataset[\"Size\"].quantile(0.75)\n",
    "q1 , q3\n",
    "\n",
    "IQR=q3 - q1\n",
    "\n",
    "max_rng = q3 + (1.5*IQR)\n",
    "min_rng = q1 - (1.5*IQR)\n",
    "max_rng , min_rng\n",
    "\n",
    "dataset=dataset[dataset[\"Size\"]<max_rng]\n",
    "\n"
   ]
  },
  {
   "cell_type": "code",
   "execution_count": 9,
   "id": "7481ac31-0d8e-4e87-b977-01862d5555b3",
   "metadata": {},
   "outputs": [
    {
     "data": {
      "image/png": "[encoded data removed]",
      "text/plain": [
       "<Figure size 640x480 with 1 Axes>"
      ]
     },
     "metadata": {},
     "output_type": "display_data"
    },
    {
     "data": {
      "image/png": "[encoded data removed]",
      "text/plain": [
       "<Figure size 640x480 with 1 Axes>"
      ]
     },
     "metadata": {},
     "output_type": "display_data"
    }
   ],
   "source": [
    "# NOw we can remove our Outliers now Again check it through Box plot\n",
    "sns.boxplot(x=\"Size\",data=dataset)\n",
    "plt.show()\n",
    "\n",
    "dataset.shape\n",
    "\n",
    "# NOW CHECK OUTLIERS FOR Bathroom\n",
    "sns.boxplot(x=\"Bathroom\",data=dataset)\n",
    "plt.show()\n",
    "\n",
    "dataset[\"Bathroom\"].value_counts\n",
    "\n",
    "q1 = dataset[\"Bathroom\"].quantile(0.25)\n",
    "q3 = dataset[\"Bathroom\"].quantile(0.75)\n",
    "q1 , q3\n",
    "\n",
    "IQR=q3 - q1\n",
    "\n",
    "max_rng = q3 + (1.5*IQR)\n",
    "min_rng = q1 - (1.5*IQR)\n",
    "max_rng , min_rng\n",
    "\n",
    "dataset=dataset[dataset[\"Bathroom\"]<max_rng]\n",
    "\n"
   ]
  },
  {
   "cell_type": "code",
   "execution_count": 10,
   "id": "1c5003cc-be05-4c6b-a992-ff29d6b1a852",
   "metadata": {},
   "outputs": [
    {
     "data": {
      "image/png": "[encoded data removed]",
      "text/plain": [
       "<Figure size 640x480 with 1 Axes>"
      ]
     },
     "metadata": {},
     "output_type": "display_data"
    },
    {
     "name": "stdout",
     "output_type": "stream",
     "text": [
      "City\n",
      "Bangalore    827\n",
      "Chennai      819\n",
      "Hyderabad    786\n",
      "Mumbai       571\n",
      "Delhi        528\n",
      "Kolkata      512\n",
      "Name: count, dtype: int64\n"
     ]
    },
    {
     "data": {
      "image/png": "[encoded data removed]",
      "text/plain": [
       "<Figure size 640x480 with 1 Axes>"
      ]
     },
     "metadata": {},
     "output_type": "display_data"
    },
    {
     "data": {
      "image/png": "[encoded data removed]",
      "text/plain": [
       "<Figure size 640x480 with 1 Axes>"
      ]
     },
     "metadata": {},
     "output_type": "display_data"
    },
    {
     "name": "stdout",
     "output_type": "stream",
     "text": [
      "1.0 3.0\n",
      "6.0 -2.0\n"
     ]
    },
    {
     "data": {
      "image/png": "[encoded data removed]",
      "text/plain": [
       "<Figure size 640x480 with 1 Axes>"
      ]
     },
     "metadata": {},
     "output_type": "display_data"
    }
   ],
   "source": [
    "# NOw we can remove our Outliers now Again check it through Box plot\n",
    "sns.boxplot(x=\"Bathroom\",data=dataset)\n",
    "plt.show()\n",
    "\n",
    "dataset.shape\n",
    "\n",
    "# NOw outliers find for Categoric value\n",
    "\n",
    "print(dataset[\"City\"].value_counts())\n",
    "sns.countplot(x=\"City\", data=dataset)\n",
    "plt.xticks(rotation=90)  \n",
    "plt.show()\n",
    "\n",
    "#If a category has less than 1% of total rows, you can either remove it or group it into \"Other\"\n",
    "threshold = 0.01 * len(dataset)  # Define threshold for rare categories\n",
    "rare_categories = dataset[\"City\"].value_counts()[dataset[\"City\"].value_counts() < threshold].index\n",
    "dataset[\"City\"] = dataset[\"City\"].replace(rare_categories, \"Other\")\n",
    "\n",
    "\n",
    "\n",
    "\n",
    "\n",
    "import re\n",
    "\n",
    "# Function to extract numerical floor level\n",
    "def extract_floor(value):\n",
    "    if isinstance(value, str):\n",
    "        match = re.search(r'(\\d+)', value)  # Extract first number found\n",
    "        if match:\n",
    "            return int(match.group(1))  # Convert to integer\n",
    "        elif \"Ground\" in value or \"Basement\" in value:\n",
    "            return 0  # Treat Ground/Basement as 0\n",
    "    return None  # If no number is found, return None\n",
    "\n",
    "# Apply the function to extract floor numbers\n",
    "dataset[\"Floor_Level\"] = dataset[\"Floor\"].apply(extract_floor)\n",
    "\n",
    "# Drop rows where Floor_Level is still None (irrelevant values)\n",
    "dataset = dataset.dropna(subset=[\"Floor_Level\"])\n",
    "\n",
    "# Convert Floor_Level to integer type\n",
    "dataset[\"Floor_Level\"] = dataset[\"Floor_Level\"].astype(int)\n",
    "\n",
    "# NOW CHECK OUTLIERS FOR Floor_Level\n",
    "sns.boxplot(x=\"Floor_Level\", data=dataset)\n",
    "plt.show()\n",
    "\n",
    "# Finding Q1 and Q3 for Floor_Level\n",
    "q1 = dataset[\"Floor_Level\"].quantile(0.25)\n",
    "q3 = dataset[\"Floor_Level\"].quantile(0.75)\n",
    "print(q1, q3)\n",
    "\n",
    "# Calculating IQR\n",
    "IQR = q3 - q1\n",
    "\n",
    "# Defining upper and lower limits\n",
    "max_rng = q3 + (1.5 * IQR)\n",
    "min_rng = q1 - (1.5 * IQR)\n",
    "print(max_rng, min_rng)\n",
    "\n",
    "# Removing outliers\n",
    "dataset = dataset[dataset[\"Floor_Level\"]<max_rng]\n",
    "# Checking again using Box Plot\n",
    "sns.boxplot(x=\"Floor_Level\", data=dataset)\n",
    "plt.show()\n",
    "\n",
    "# Checking the shape of the dataset after removing outliers\n",
    "dataset.shape\n",
    "\n",
    "# Now Drop the Floor Column\n",
    "dataset = dataset.drop(columns=[\"Floor\"])\n",
    "\n"
   ]
  },
  {
   "cell_type": "code",
   "execution_count": 11,
   "id": "bcb06437-645e-4b47-b6ac-05bca8d73c3a",
   "metadata": {},
   "outputs": [
    {
     "data": {
      "text/html": [
       "<div>\n",
       "<style scoped>\n",
       "    .dataframe tbody tr th:only-of-type {\n",
       "        vertical-align: middle;\n",
       "    }\n",
       "\n",
       "    .dataframe tbody tr th {\n",
       "        vertical-align: top;\n",
       "    }\n",
       "\n",
       "    .dataframe thead th {\n",
       "        text-align: right;\n",
       "    }\n",
       "</style>\n",
       "<table border=\"1\" class=\"dataframe\">\n",
       "  <thead>\n",
       "    <tr style=\"text-align: right;\">\n",
       "      <th></th>\n",
       "      <th>BHK</th>\n",
       "      <th>Rent</th>\n",
       "      <th>Size</th>\n",
       "      <th>Area Type</th>\n",
       "      <th>City</th>\n",
       "      <th>Furnishing Status</th>\n",
       "      <th>Bathroom</th>\n",
       "      <th>Floor_Level</th>\n",
       "    </tr>\n",
       "  </thead>\n",
       "  <tbody>\n",
       "    <tr>\n",
       "      <th>0</th>\n",
       "      <td>2</td>\n",
       "      <td>10000</td>\n",
       "      <td>1100</td>\n",
       "      <td>2.0</td>\n",
       "      <td>5.0</td>\n",
       "      <td>Unfurnished</td>\n",
       "      <td>2</td>\n",
       "      <td>2</td>\n",
       "    </tr>\n",
       "    <tr>\n",
       "      <th>1</th>\n",
       "      <td>2</td>\n",
       "      <td>20000</td>\n",
       "      <td>800</td>\n",
       "      <td>2.0</td>\n",
       "      <td>5.0</td>\n",
       "      <td>Semi-Furnished</td>\n",
       "      <td>1</td>\n",
       "      <td>1</td>\n",
       "    </tr>\n",
       "    <tr>\n",
       "      <th>2</th>\n",
       "      <td>2</td>\n",
       "      <td>17000</td>\n",
       "      <td>1000</td>\n",
       "      <td>2.0</td>\n",
       "      <td>5.0</td>\n",
       "      <td>Semi-Furnished</td>\n",
       "      <td>1</td>\n",
       "      <td>1</td>\n",
       "    </tr>\n",
       "    <tr>\n",
       "      <th>3</th>\n",
       "      <td>2</td>\n",
       "      <td>10000</td>\n",
       "      <td>800</td>\n",
       "      <td>2.0</td>\n",
       "      <td>5.0</td>\n",
       "      <td>Unfurnished</td>\n",
       "      <td>1</td>\n",
       "      <td>1</td>\n",
       "    </tr>\n",
       "    <tr>\n",
       "      <th>4</th>\n",
       "      <td>2</td>\n",
       "      <td>7500</td>\n",
       "      <td>850</td>\n",
       "      <td>0.0</td>\n",
       "      <td>5.0</td>\n",
       "      <td>Unfurnished</td>\n",
       "      <td>1</td>\n",
       "      <td>1</td>\n",
       "    </tr>\n",
       "  </tbody>\n",
       "</table>\n",
       "</div>"
      ],
      "text/plain": [
       "   BHK   Rent  Size  Area Type  City Furnishing Status  Bathroom  Floor_Level\n",
       "0    2  10000  1100        2.0   5.0       Unfurnished         2            2\n",
       "1    2  20000   800        2.0   5.0    Semi-Furnished         1            1\n",
       "2    2  17000  1000        2.0   5.0    Semi-Furnished         1            1\n",
       "3    2  10000   800        2.0   5.0       Unfurnished         1            1\n",
       "4    2   7500   850        0.0   5.0       Unfurnished         1            1"
      ]
     },
     "execution_count": 11,
     "metadata": {},
     "output_type": "execute_result"
    }
   ],
   "source": [
    "# Convert 'Area Type' using Ordinal Encoding\n",
    "dataset[\"Area Type\"].unique()\n",
    "Or_en = [[\"Carpet Area\", \"Built Area\", \"Super Area\"]]  # Correct format\n",
    "Oe = OrdinalEncoder(categories=Or_en, handle_unknown=\"use_encoded_value\", unknown_value=-1)  # Handle unseen values\n",
    "dataset[\"Area Type\"] = Oe.fit_transform(dataset[[\"Area Type\"]])\n",
    "dataset.head()\n",
    "\n",
    "# Handle 'City' column\n",
    "dataset[\"City\"].unique()\n",
    "\n",
    "# Group rare/unseen cities as \"Other\"\n",
    "threshold = 0.01 * len(dataset)  # Define threshold for rare categories\n",
    "rare_cities = dataset[\"City\"].value_counts()[dataset[\"City\"].value_counts() < threshold].index\n",
    "dataset[\"City\"] = dataset[\"City\"].replace(rare_cities, \"Other\")\n",
    "\n",
    "# Ordinal encoding with \"Other\" included\n",
    "Or_en1 = [[\"Mumbai\", \"Delhi\", \"Bangalore\", \"Chennai\", \"Hyderabad\", \"Kolkata\", \"Other\"]]\n",
    "oe = OrdinalEncoder(categories=Or_en1, handle_unknown=\"use_encoded_value\", unknown_value=-1)\n",
    "\n",
    "# Transform and store back\n",
    "dataset[\"City\"] = oe.fit_transform(dataset[[\"City\"]])\n",
    "\n",
    "dataset.head()\n",
    "\n"
   ]
  },
  {
   "cell_type": "code",
   "execution_count": 12,
   "id": "3a4b67be-012d-4e69-aa2f-d2c3ac104e35",
   "metadata": {},
   "outputs": [],
   "source": [
    "#Handle Furnishing Status column\n",
    "dataset[\"Furnishing Status\"].unique()\n",
    "Or_en2 = [[\"Unfurnished\", \"Semi-Furnished\", \"Furnished\"]]\n",
    "oe = OrdinalEncoder(categories=Or_en2)\n",
    "dataset[\"Furnishing Status\"] = oe.fit_transform(dataset[[\"Furnishing Status\"]])\n",
    "\n",
    "dataset.head()\n",
    "# Now we train and Test Our Dataset\n",
    "x = dataset[[\"BHK\",\"Size\",\"Area Type\",\"City\",\"Furnishing Status\",\"Bathroom\",\"Floor_Level\"]]\n",
    "y = dataset[\"Rent\"]\n",
    "#Spliting Data\n",
    "x_train , x_test ,y_train, y_test = train_test_split(x,y,test_size=0.20,random_state=42)\n",
    "#Train model\n",
    "model=LinearRegression()\n",
    "model.fit(x_train,y_train)\n",
    "\n",
    "#Now Score check\n",
    "model.score(x_test,y_test)*100\n",
    "\n",
    "y_pred = model.predict(x_test)\n",
    "dataset_comp =pd.DataFrame({\"Actual\":y_test,\"Predict\":y_pred})\n",
    "\n"
   ]
  },
  {
   "cell_type": "code",
   "execution_count": 13,
   "id": "4a5e22c8-104f-4f79-ab35-b0fd18db4701",
   "metadata": {},
   "outputs": [],
   "source": [
    "\n",
    "import pandas as pd\n",
    "import numpy as np\n",
    "from sklearn.preprocessing import StandardScaler, OneHotEncoder, PolynomialFeatures\n",
    "from sklearn.model_selection import train_test_split\n",
    "from sklearn.ensemble import RandomForestRegressor\n",
    "from xgboost import XGBRegressor  # 🚀 Boosting Model\n",
    "\n",
    "# 🏠 Feature Engineering\n",
    "dataset[\"Total Rooms\"] = dataset[\"BHK\"] + dataset[\"Bathroom\"]  # New feature\n",
    "dataset[\"Log Rent\"] = np.log1p(dataset[\"Rent\"])  # Log transformation\n",
    "\n",
    "# 🎯 One-Hot Encoding (Categorical Features)\n",
    "categorical_cols = [\"City\", \"Area Type\", \"Furnishing Status\"]\n",
    "x = pd.get_dummies(dataset, columns=categorical_cols, drop_first=True)\n",
    "\n",
    "# 🚀 Define Features (X) and Target (y)\n",
    "X = x.drop(columns=[\"Rent\", \"Log Rent\"])  # Drop original Rent\n",
    "y = dataset[\"Log Rent\"]  # Use Log Rent as target\n",
    "\n",
    "# 🔢 Create Polynomial Features (Captures Interactions)\n",
    "poly = PolynomialFeatures(degree=2, interaction_only=True, include_bias=False)\n",
    "X_poly = poly.fit_transform(X)\n",
    "\n",
    "# 📏 Feature Scaling\n",
    "scaler = StandardScaler()\n",
    "X_scaled = scaler.fit_transform(X_poly)\n",
    "\n"
   ]
  },
  {
   "cell_type": "code",
   "execution_count": 18,
   "id": "90b47cfc-dcc3-4b8f-a1e4-5cdb89cc471d",
   "metadata": {},
   "outputs": [
    {
     "name": "stdout",
     "output_type": "stream",
     "text": [
      "Random Forest Score: 54.643025150422886\n"
     ]
    }
   ],
   "source": [
    "# 🏋️ Train-Test Split\n",
    "x_train, x_test, y_train, y_test = train_test_split(X_scaled, y, test_size=0.2, random_state=71)\n",
    "\n",
    "# 🌲 **Random Forest Model (Tuned)**\n",
    "rf_model = RandomForestRegressor(n_estimators=500, max_depth=20, min_samples_split=4, random_state=53)\n",
    "rf_model.fit(x_train, y_train)\n",
    "\n",
    "\n",
    "# 📊 Check Model Performance\n",
    "print(\"Random Forest Score:\", rf_model.score(x_test, y_test) * 100)\n",
    "\n",
    "\n",
    "\n",
    "\n",
    "\n",
    "\n",
    "\n",
    "\n",
    "\n"
   ]
  },
  {
   "cell_type": "code",
   "execution_count": 20,
   "id": "e64db055-ba11-437b-9902-3a5d45b13866",
   "metadata": {},
   "outputs": [],
   "source": [
    "y_pred = rf_model.predict(x_test)\n",
    "dataset_com = pd.DataFrame({\"Actual\":y_test,\"Prediction\":y_pred})\n",
    "dataset_com.head()"
   ]
  },
  {
   "cell_type": "code",
   "execution_count": 21,
   "id": "6ac883c8-3b77-4d54-a60a-1f3e495e7d24",
   "metadata": {},
   "outputs": [
    {
     "data": {
      "text/html": [
       "<div>\n",
       "<style scoped>\n",
       "    .dataframe tbody tr th:only-of-type {\n",
       "        vertical-align: middle;\n",
       "    }\n",
       "\n",
       "    .dataframe tbody tr th {\n",
       "        vertical-align: top;\n",
       "    }\n",
       "\n",
       "    .dataframe thead th {\n",
       "        text-align: right;\n",
       "    }\n",
       "</style>\n",
       "<table border=\"1\" class=\"dataframe\">\n",
       "  <thead>\n",
       "    <tr style=\"text-align: right;\">\n",
       "      <th></th>\n",
       "      <th>Actual</th>\n",
       "      <th>Prediction</th>\n",
       "    </tr>\n",
       "  </thead>\n",
       "  <tbody>\n",
       "    <tr>\n",
       "      <th>2094</th>\n",
       "      <td>10.239996</td>\n",
       "      <td>9.591189</td>\n",
       "    </tr>\n",
       "    <tr>\n",
       "      <th>361</th>\n",
       "      <td>8.517393</td>\n",
       "      <td>8.448234</td>\n",
       "    </tr>\n",
       "    <tr>\n",
       "      <th>3364</th>\n",
       "      <td>9.210440</td>\n",
       "      <td>8.524524</td>\n",
       "    </tr>\n",
       "    <tr>\n",
       "      <th>2775</th>\n",
       "      <td>10.308986</td>\n",
       "      <td>10.345226</td>\n",
       "    </tr>\n",
       "    <tr>\n",
       "      <th>538</th>\n",
       "      <td>10.239996</td>\n",
       "      <td>10.180984</td>\n",
       "    </tr>\n",
       "  </tbody>\n",
       "</table>\n",
       "</div>"
      ],
      "text/plain": [
       "         Actual  Prediction\n",
       "2094  10.239996    9.591189\n",
       "361    8.517393    8.448234\n",
       "3364   9.210440    8.524524\n",
       "2775  10.308986   10.345226\n",
       "538   10.239996   10.180984"
      ]
     },
     "execution_count": 21,
     "metadata": {},
     "output_type": "execute_result"
    }
   ],
   "source": []
  },
  {
   "cell_type": "code",
   "execution_count": null,
   "id": "075b2cec-66b6-4192-9aa8-ec8dc9787c0d",
   "metadata": {},
   "outputs": [],
   "source": []
  }
 ],
 "metadata": {
  "kernelspec": {
   "display_name": "Python 3 (ipykernel)",
   "language": "python",
   "name": "python3"
  },
  "language_info": {
   "codemirror_mode": {
    "name": "ipython",
    "version": 3
   },
   "file_extension": ".py",
   "mimetype": "text/x-python",
   "name": "python",
   "nbconvert_exporter": "python",
   "pygments_lexer": "ipython3",
   "version": "3.12.5"
  }
 },
 "nbformat": 4,
 "nbformat_minor": 5
}
